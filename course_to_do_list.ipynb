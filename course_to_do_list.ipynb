{
  "nbformat": 4,
  "nbformat_minor": 0,
  "metadata": {
    "colab": {
      "name": "course to-do list.ipynb",
      "provenance": [],
      "collapsed_sections": [],
      "authorship_tag": "ABX9TyM7UIU65EdrNpMcAPeC+1cB",
      "include_colab_link": true
    },
    "kernelspec": {
      "name": "python3",
      "display_name": "Python 3"
    },
    "accelerator": "GPU"
  },
  "cells": [
    {
      "cell_type": "markdown",
      "metadata": {
        "id": "view-in-github",
        "colab_type": "text"
      },
      "source": [
        "<a href=\"https://colab.research.google.com/github/shadmansakibakash/python0.0/blob/main/course_to_do_list.ipynb\" target=\"_parent\"><img src=\"https://colab.research.google.com/assets/colab-badge.svg\" alt=\"Open In Colab\"/></a>"
      ]
    },
    {
      "cell_type": "code",
      "metadata": {
        "id": "lAUn7kOosRId"
      },
      "source": [
        "data = []\r\n",
        "choice = 'random'"
      ],
      "execution_count": 6,
      "outputs": []
    },
    {
      "cell_type": "code",
      "metadata": {
        "id": "yu88XCKGsZwM"
      },
      "source": [
        "def line():\r\n",
        "    print('---------------------------')"
      ],
      "execution_count": 7,
      "outputs": []
    },
    {
      "cell_type": "code",
      "metadata": {
        "colab": {
          "base_uri": "https://localhost:8080/"
        },
        "id": "C42qzVuaseYx",
        "outputId": "351493e1-4ba3-4c42-9e5d-3a3df3c60e97"
      },
      "source": [
        "def show_menu():\r\n",
        "    line()\r\n",
        "    print('MENU')\r\n",
        "    line()\r\n",
        "    print('1. Take new course')\r\n",
        "    print('2. Mark course as done')\r\n",
        "    print('3. View list')\r\n",
        "    print('4. Exit')\r\n",
        "    line()\r\n",
        "    choice = input('Enter your course choice: ')\r\n",
        "    return choice\r\n",
        "\r\n",
        "while choice != '4':\r\n",
        "    choice = show_menu()\r\n",
        "    if choice == '1':\r\n",
        "        item = input('What course to be taken? ')\r\n",
        "        data.append(item)\r\n",
        "        print('Item', item, 'added')\r\n",
        "    elif choice == '2':\r\n",
        "        item = input('What course to be marked as done? ')\r\n",
        "        if item in data:\r\n",
        "            data.remove(item)\r\n",
        "            print('Removed course', item)\r\n",
        "        else:\r\n",
        "            print('Could not find course', item)\r\n",
        "    elif choice == '3':\r\n",
        "        print('List of to-do corse:')\r\n",
        "        for item in data:\r\n",
        "            print(item)\r\n",
        "    elif choice == '4':\r\n",
        "        print('Have a nice day!')\r\n",
        "    else:\r\n",
        "        print('Please enter one of 1, 2, 3 or 4')"
      ],
      "execution_count": 8,
      "outputs": [
        {
          "output_type": "stream",
          "text": [
            "---------------------------\n",
            "MENU\n",
            "---------------------------\n",
            "1. Take new course\n",
            "2. Mark course as done\n",
            "3. View list\n",
            "4. Exit\n",
            "---------------------------\n",
            "Enter your course choice: 1\n",
            "What course to be taken? cse111\n",
            "Item cse111 added\n",
            "---------------------------\n",
            "MENU\n",
            "---------------------------\n",
            "1. Take new course\n",
            "2. Mark course as done\n",
            "3. View list\n",
            "4. Exit\n",
            "---------------------------\n",
            "Enter your course choice: 1\n",
            "What course to be taken? cse112\n",
            "Item cse112 added\n",
            "---------------------------\n",
            "MENU\n",
            "---------------------------\n",
            "1. Take new course\n",
            "2. Mark course as done\n",
            "3. View list\n",
            "4. Exit\n",
            "---------------------------\n",
            "Enter your course choice: 3\n",
            "List of to-do corse:\n",
            "cse111\n",
            "cse112\n",
            "---------------------------\n",
            "MENU\n",
            "---------------------------\n",
            "1. Take new course\n",
            "2. Mark course as done\n",
            "3. View list\n",
            "4. Exit\n",
            "---------------------------\n",
            "Enter your course choice: 4\n",
            "Have a nice day!\n"
          ],
          "name": "stdout"
        }
      ]
    }
  ]
}