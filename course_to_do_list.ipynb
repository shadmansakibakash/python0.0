{
  "nbformat": 4,
  "nbformat_minor": 0,
  "metadata": {
    "colab": {
      "name": "course to-do list.ipynb",
      "provenance": [],
      "collapsed_sections": [],
      "authorship_tag": "ABX9TyM7UIU65EdrNpMcAPeC+1cB",
      "include_colab_link": true
    },
    "kernelspec": {
      "name": "python3",
      "display_name": "Python 3"
    },
    "accelerator": "GPU"
  },
  "cells": [
    {
      "cell_type": "markdown",
      "metadata": {
        "id": "view-in-github",
        "colab_type": "text"
      },
      "source": [
        "<a href=\"https://colab.research.google.com/github/shadmansakibakash/python0.0/blob/main/course_to_do_list.ipynb\" target=\"_parent\"><img src=\"https://colab.research.google.com/assets/colab-badge.svg\" alt=\"Open In Colab\"/></a>"
      ]
    },
    {
      "cell_type": "code",
      "metadata": {
        "id": "lAUn7kOosRId"
      },
      "source": [
        "data = []\r\n",
        "choice = 'random'"
      ],
      "execution_count": 6,
      "outputs": []
    },
    {
      "cell_type": "code",
      "metadata": {
        "id": "yu88XCKGsZwM"
      },
      "source": [
        "def line():\r\n",
        "    print('---------------------------')"
      ],
      "execution_count": 7,
      "outputs": []
    },
    {
      "cell_type": "code",
      "metadata": {
        "id": "C42qzVuaseYx"
      },
      "source": [
        "def show_menu():\r\n",
        "    line()\r\n",
        "    print('MENU')\r\n",
        "    line()\r\n",
        "    print('1. Take new course')\r\n",
        "    print('2. Mark course as done')\r\n",
        "    print('3. View list')\r\n",
        "    print('4. Exit')\r\n",
        "    line()\r\n",
        "    choice = input('Enter your course choice: ')\r\n",
        "    return choice\r\n",
        "\r\n",
        "while choice != '4':\r\n",
        "    choice = show_menu()\r\n",
        "    if choice == '1':\r\n",
        "        item = input('What course to be taken? ')\r\n",
        "        data.append(item)\r\n",
        "        print('Item', item, 'added')\r\n",
        "    elif choice == '2':\r\n",
        "        item = input('What course to be marked as done? ')\r\n",
        "        if item in data:\r\n",
        "            data.remove(item)\r\n",
        "            print('Removed course', item)\r\n",
        "        else:\r\n",
        "            print('Could not find course', item)\r\n",
        "    elif choice == '3':\r\n",
        "        print('List of to-do corse:')\r\n",
        "        for item in data:\r\n",
        "            print(item)\r\n",
        "    elif choice == '4':\r\n",
        "        print('Have a nice day!')\r\n",
        "    else:\r\n",
        "        print('Please enter one of 1, 2, 3 or 4')"
      ],
      "execution_count": null,
      "outputs": []
    }
  ]
}